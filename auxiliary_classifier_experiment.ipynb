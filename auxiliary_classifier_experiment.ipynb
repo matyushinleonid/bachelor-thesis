{
 "cells": [
  {
   "cell_type": "markdown",
   "metadata": {},
   "source": [
    "Импортируем необходимые вещи и определяем функции с говорящими названиями"
   ]
  },
  {
   "cell_type": "code",
   "execution_count": 1,
   "metadata": {},
   "outputs": [
    {
     "name": "stderr",
     "output_type": "stream",
     "text": [
      "Using TensorFlow backend.\n"
     ]
    }
   ],
   "source": [
    "from __future__ import print_function\n",
    "import keras\n",
    "from keras.datasets import mnist\n",
    "from keras.models import Sequential\n",
    "from keras.layers import Dense, Dropout, Flatten\n",
    "from keras.layers import Conv2D, MaxPooling2D\n",
    "from keras import backend as K\n",
    "import numpy as np\n",
    "import matplotlib.pyplot as plt\n",
    "import tensorflow as tf\n",
    "from time import time\n",
    "from sklearn.metrics import roc_auc_score as rocauc\n",
    "from sklearn.metrics import accuracy_score as acc\n",
    "from __future__ import print_function  \n",
    "import seaborn as sns\n",
    "sns.set_style(\"whitegrid\")\n",
    "\n",
    "np.set_printoptions(precision=10)\n",
    "np.set_printoptions(suppress=True)\n",
    "input_shape = (28, 28, 1)\n",
    "\n",
    "def printimg(tensor):\n",
    "    image = tensor[:,:,0]\n",
    "    plt.imshow(image,aspect=\"auto\")\n",
    "    plt.show()\n",
    "    \n",
    "def D1_problem_to_C1_problem(arr):\n",
    "    arr = (arr - beta/(alpha + beta))*(((1 - beta) / (2 - alpha - beta) - beta / (alpha + beta)) ** -1)\n",
    "    arr = np.clip(arr,0,1) # значение недообученного классификатора на предыдущем этапе может выйти за границы 0 и 1 \n",
    "    return arr"
   ]
  },
  {
   "cell_type": "markdown",
   "metadata": {},
   "source": [
    "Загружаем датасет:"
   ]
  },
  {
   "cell_type": "code",
   "execution_count": 2,
   "metadata": {
    "collapsed": true
   },
   "outputs": [],
   "source": [
    "(x_train, y_train), (x_test, y_test) = mnist.load_data()\n",
    "x = np.append(x_train, x_test, axis=0)\n",
    "y = np.append(y_train, y_test)\n",
    "x = x.reshape(x.shape[0], 28, 28, 1)"
   ]
  },
  {
   "cell_type": "markdown",
   "metadata": {},
   "source": [
    "Задаём параметры эксперимента:"
   ]
  },
  {
   "cell_type": "code",
   "execution_count": 3,
   "metadata": {
    "collapsed": true
   },
   "outputs": [],
   "source": [
    "C0_values = [0] # Какие цифры допустимы в классе C_0. В классе C_1 будут все остальные цифры \n",
    "_NUMBER_OF_C0_IN_D0 = 5\n",
    "_NUMBER_OF_C0_IN_D1 = 900\n",
    "_NUMBER_OF_C1_IN_D0 = 20000\n",
    "_NUMBER_OF_C1_IN_D1 = 20000"
   ]
  },
  {
   "cell_type": "markdown",
   "metadata": {
    "collapsed": true
   },
   "source": [
    "Выделяем из датасета элементы в необходимых пропорциях, расставляем лейблы:"
   ]
  },
  {
   "cell_type": "code",
   "execution_count": 4,
   "metadata": {
    "collapsed": true
   },
   "outputs": [],
   "source": [
    "y_C1 = np.array([int(elem not in C0_values) for elem in y])\n",
    "_TOTAL_NUMBER_OF_C0 = len(y) - y_C1.sum()\n",
    "\n",
    "alpha = _NUMBER_OF_C0_IN_D0 / (_NUMBER_OF_C0_IN_D0 + _NUMBER_OF_C1_IN_D0)\n",
    "beta = _NUMBER_OF_C0_IN_D1 / (_NUMBER_OF_C0_IN_D1 + _NUMBER_OF_C1_IN_D1)\n",
    "\n",
    "NUMBER_OF_C0_IN_D0 = _NUMBER_OF_C0_IN_D0\n",
    "NUMBER_OF_C0_IN_D1 = _NUMBER_OF_C0_IN_D1\n",
    "NUMBER_OF_C1_IN_D0 = _NUMBER_OF_C1_IN_D0\n",
    "NUMBER_OF_C1_IN_D1 = _NUMBER_OF_C1_IN_D1\n",
    "\n",
    "y_D1 = []\n",
    "i=0\n",
    "X = []\n",
    "Y_C1 = []\n",
    "Y_D1 = []\n",
    "\n",
    "while (NUMBER_OF_C0_IN_D0, NUMBER_OF_C0_IN_D1, NUMBER_OF_C1_IN_D0, NUMBER_OF_C1_IN_D1) != (0,0,0,0):\n",
    "    if y_C1[i] == 1 and NUMBER_OF_C1_IN_D0 != 0:\n",
    "        Y_C1.append(1)\n",
    "        Y_D1.append(0)\n",
    "        X.append(x[i])\n",
    "        NUMBER_OF_C1_IN_D0 -= 1\n",
    "        i += 1\n",
    "    elif y_C1[i] == 0 and NUMBER_OF_C0_IN_D0 != 0:\n",
    "        Y_C1.append(0)\n",
    "        Y_D1.append(0)\n",
    "        X.append(x[i])\n",
    "        NUMBER_OF_C0_IN_D0 -= 1\n",
    "        i += 1\n",
    "    elif y_C1[i] == 1 and NUMBER_OF_C1_IN_D1 != 0:\n",
    "        Y_C1.append(1)\n",
    "        Y_D1.append(1)\n",
    "        X.append(x[i])\n",
    "        NUMBER_OF_C1_IN_D1 -= 1\n",
    "        i += 1\n",
    "    elif y_C1[i] == 0 and NUMBER_OF_C0_IN_D1 != 0:\n",
    "        Y_C1.append(0)\n",
    "        Y_D1.append(1)\n",
    "        X.append(x[i])\n",
    "        NUMBER_OF_C0_IN_D1 -= 1\n",
    "        i += 1\n",
    "    else:\n",
    "        i += 1\n",
    "X = np.array(X)\n",
    "Y_C1 = np.array(Y_C1)\n",
    "Y_D1 = np.array(Y_D1)"
   ]
  },
  {
   "cell_type": "markdown",
   "metadata": {},
   "source": [
    "Бьём на train/test:"
   ]
  },
  {
   "cell_type": "code",
   "execution_count": 5,
   "metadata": {
    "collapsed": true
   },
   "outputs": [],
   "source": [
    "from sklearn.model_selection import train_test_split\n",
    "X_train, X_test, Y_C1_train, Y_C1_test, Y_D1_train, Y_D1_test = train_test_split(X, \n",
    "                                                                                 np.expand_dims(Y_C1, axis=1), \n",
    "                                                                                 np.expand_dims(Y_D1, axis=1), \n",
    "                                                                                 test_size=0.3, \n",
    "                                                                                 random_state=0)"
   ]
  },
  {
   "cell_type": "markdown",
   "metadata": {},
   "source": [
    "Определяем лог.регресию и CNN"
   ]
  },
  {
   "cell_type": "code",
   "execution_count": 24,
   "metadata": {
    "collapsed": true
   },
   "outputs": [],
   "source": [
    "logreg = Sequential()\n",
    "logreg.add(Flatten(input_shape=input_shape))\n",
    "logreg.add(Dense(1, activation='sigmoid'))\n",
    "logreg.compile(loss=keras.losses.binary_crossentropy,\n",
    "               optimizer=keras.optimizers.Adam())\n",
    "\n",
    "cnn = Sequential()\n",
    "cnn.add(Conv2D(8, kernel_size=(3, 3),\n",
    "                 activation='relu',\n",
    "                 input_shape=input_shape))\n",
    "cnn.add(Conv2D(16, (3, 3), activation='relu'))\n",
    "cnn.add(MaxPooling2D(pool_size=(2, 2)))\n",
    "cnn.add(Dropout(0.25))\n",
    "cnn.add(Flatten())\n",
    "cnn.add(Dense(64, activation='relu'))\n",
    "cnn.add(Dropout(0.5))\n",
    "cnn.add(Dense(1, activation='sigmoid'))\n",
    "cnn.compile(loss=keras.losses.binary_crossentropy,\n",
    "                        optimizer=keras.optimizers.Adam())"
   ]
  },
  {
   "cell_type": "markdown",
   "metadata": {},
   "source": [
    "Учим лог.регрессию"
   ]
  },
  {
   "cell_type": "code",
   "execution_count": 25,
   "metadata": {
    "collapsed": true
   },
   "outputs": [],
   "source": [
    "t0=time()"
   ]
  },
  {
   "cell_type": "code",
   "execution_count": 26,
   "metadata": {
    "scrolled": true
   },
   "outputs": [
    {
     "name": "stdout",
     "output_type": "stream",
     "text": [
      "Train on 28633 samples, validate on 12272 samples\n",
      "Epoch 1/200\n",
      "25000/28633 [=========================>....] - ETA: 0s - loss: 7.7043Epoch 00000: val_loss improved from inf to 7.73144, saving model to /tmp/logreg.hdf5\n",
      "28633/28633 [==============================] - 0s - loss: 7.6987 - val_loss: 7.7314\n",
      "Epoch 2/200\n",
      "25000/28633 [=========================>....] - ETA: 0s - loss: 7.6522Epoch 00001: val_loss improved from 7.73144 to 7.66911, saving model to /tmp/logreg.hdf5\n",
      "28633/28633 [==============================] - 0s - loss: 7.6346 - val_loss: 7.6691\n",
      "Epoch 3/200\n",
      "25000/28633 [=========================>....] - ETA: 0s - loss: 7.5591Epoch 00002: val_loss improved from 7.66911 to 7.61977, saving model to /tmp/logreg.hdf5\n",
      "28633/28633 [==============================] - 0s - loss: 7.5438 - val_loss: 7.6198\n",
      "Epoch 4/200\n",
      "25000/28633 [=========================>....] - ETA: 0s - loss: 7.4861Epoch 00003: val_loss improved from 7.61977 to 7.56578, saving model to /tmp/logreg.hdf5\n",
      "28633/28633 [==============================] - 0s - loss: 7.4625 - val_loss: 7.5658\n",
      "Epoch 5/200\n",
      "25000/28633 [=========================>....] - ETA: 0s - loss: 7.3733Epoch 00004: val_loss improved from 7.56578 to 7.55282, saving model to /tmp/logreg.hdf5\n",
      "28633/28633 [==============================] - 0s - loss: 7.3820 - val_loss: 7.5528\n",
      "Epoch 6/200\n",
      "25000/28633 [=========================>....] - ETA: 0s - loss: 7.3215Epoch 00005: val_loss improved from 7.55282 to 7.43489, saving model to /tmp/logreg.hdf5\n",
      "28633/28633 [==============================] - 0s - loss: 7.3294 - val_loss: 7.4349\n",
      "Epoch 7/200\n",
      "25000/28633 [=========================>....] - ETA: 0s - loss: 7.2081Epoch 00006: val_loss improved from 7.43489 to 7.30921, saving model to /tmp/logreg.hdf5\n",
      "28633/28633 [==============================] - 0s - loss: 7.1881 - val_loss: 7.3092\n",
      "Epoch 8/200\n",
      "25000/28633 [=========================>....] - ETA: 0s - loss: 7.0674Epoch 00007: val_loss improved from 7.30921 to 7.16091, saving model to /tmp/logreg.hdf5\n",
      "28633/28633 [==============================] - 0s - loss: 7.0521 - val_loss: 7.1609\n",
      "Epoch 9/200\n",
      "25000/28633 [=========================>....] - ETA: 0s - loss: 6.9414Epoch 00008: val_loss improved from 7.16091 to 7.00825, saving model to /tmp/logreg.hdf5\n",
      "28633/28633 [==============================] - 0s - loss: 6.9108 - val_loss: 7.0083\n",
      "Epoch 10/200\n",
      "25000/28633 [=========================>....] - ETA: 0s - loss: 6.7890Epoch 00009: val_loss improved from 7.00825 to 6.92366, saving model to /tmp/logreg.hdf5\n",
      "28633/28633 [==============================] - 0s - loss: 6.7858 - val_loss: 6.9237\n",
      "Epoch 11/200\n",
      "25000/28633 [=========================>....] - ETA: 0s - loss: 6.6967Epoch 00010: val_loss improved from 6.92366 to 6.87186, saving model to /tmp/logreg.hdf5\n",
      "28633/28633 [==============================] - 0s - loss: 6.6990 - val_loss: 6.8719\n",
      "Epoch 12/200\n",
      "25000/28633 [=========================>....] - ETA: 0s - loss: 6.6242Epoch 00011: val_loss improved from 6.87186 to 6.78645, saving model to /tmp/logreg.hdf5\n",
      "28633/28633 [==============================] - 0s - loss: 6.5991 - val_loss: 6.7864\n",
      "Epoch 13/200\n",
      "25000/28633 [=========================>....] - ETA: 0s - loss: 6.5268Epoch 00012: val_loss improved from 6.78645 to 6.70208, saving model to /tmp/logreg.hdf5\n",
      "28633/28633 [==============================] - 0s - loss: 6.5283 - val_loss: 6.7021\n",
      "Epoch 14/200\n",
      "25000/28633 [=========================>....] - ETA: 0s - loss: 6.3843Epoch 00013: val_loss improved from 6.70208 to 6.68957, saving model to /tmp/logreg.hdf5\n",
      "28633/28633 [==============================] - 0s - loss: 6.4151 - val_loss: 6.6896\n",
      "Epoch 15/200\n",
      "25000/28633 [=========================>....] - ETA: 0s - loss: 6.3733Epoch 00014: val_loss improved from 6.68957 to 6.55675, saving model to /tmp/logreg.hdf5\n",
      "28633/28633 [==============================] - 0s - loss: 6.3787 - val_loss: 6.5568\n",
      "Epoch 16/200\n",
      "25000/28633 [=========================>....] - ETA: 0s - loss: 6.3279Epoch 00015: val_loss improved from 6.55675 to 6.54368, saving model to /tmp/logreg.hdf5\n",
      "28633/28633 [==============================] - 0s - loss: 6.3095 - val_loss: 6.5437\n",
      "Epoch 17/200\n",
      "25000/28633 [=========================>....] - ETA: 0s - loss: 6.2431Epoch 00016: val_loss improved from 6.54368 to 6.53051, saving model to /tmp/logreg.hdf5\n",
      "28633/28633 [==============================] - 0s - loss: 6.2473 - val_loss: 6.5305\n",
      "Epoch 18/200\n",
      "25000/28633 [=========================>....] - ETA: 0s - loss: 6.1576Epoch 00017: val_loss improved from 6.53051 to 6.46204, saving model to /tmp/logreg.hdf5\n",
      "28633/28633 [==============================] - 0s - loss: 6.1666 - val_loss: 6.4620\n",
      "Epoch 19/200\n",
      "25000/28633 [=========================>....] - ETA: 0s - loss: 6.1222Epoch 00018: val_loss improved from 6.46204 to 6.42948, saving model to /tmp/logreg.hdf5\n",
      "28633/28633 [==============================] - 0s - loss: 6.0989 - val_loss: 6.4295\n",
      "Epoch 20/200\n",
      "25000/28633 [=========================>....] - ETA: 0s - loss: 6.0442Epoch 00019: val_loss improved from 6.42948 to 6.34029, saving model to /tmp/logreg.hdf5\n",
      "28633/28633 [==============================] - 0s - loss: 6.0137 - val_loss: 6.3403\n",
      "Epoch 21/200\n",
      "25000/28633 [=========================>....] - ETA: 0s - loss: 5.9625Epoch 00020: val_loss improved from 6.34029 to 6.25205, saving model to /tmp/logreg.hdf5\n",
      "28633/28633 [==============================] - 0s - loss: 5.9401 - val_loss: 6.2521\n",
      "Epoch 22/200\n",
      "25000/28633 [=========================>....] - ETA: 0s - loss: 5.8657Epoch 00021: val_loss improved from 6.25205 to 6.20789, saving model to /tmp/logreg.hdf5\n",
      "28633/28633 [==============================] - 0s - loss: 5.8973 - val_loss: 6.2079\n",
      "Epoch 23/200\n",
      "25000/28633 [=========================>....] - ETA: 0s - loss: 5.8204Epoch 00022: val_loss improved from 6.20789 to 6.16719, saving model to /tmp/logreg.hdf5\n",
      "28633/28633 [==============================] - 0s - loss: 5.8374 - val_loss: 6.1672\n",
      "Epoch 24/200\n",
      "25000/28633 [=========================>....] - ETA: 0s - loss: 5.7428Epoch 00023: val_loss improved from 6.16719 to 6.11893, saving model to /tmp/logreg.hdf5\n",
      "28633/28633 [==============================] - 0s - loss: 5.7729 - val_loss: 6.1189\n",
      "Epoch 25/200\n",
      "25000/28633 [=========================>....] - ETA: 0s - loss: 5.7339Epoch 00024: val_loss improved from 6.11893 to 6.06290, saving model to /tmp/logreg.hdf5\n",
      "28633/28633 [==============================] - 0s - loss: 5.7390 - val_loss: 6.0629\n",
      "Epoch 26/200\n",
      "25000/28633 [=========================>....] - ETA: 0s - loss: 5.6628Epoch 00025: val_loss improved from 6.06290 to 5.98382, saving model to /tmp/logreg.hdf5\n",
      "28633/28633 [==============================] - 0s - loss: 5.6583 - val_loss: 5.9838\n",
      "Epoch 27/200\n",
      "25000/28633 [=========================>....] - ETA: 0s - loss: 5.6172Epoch 00026: val_loss improved from 5.98382 to 5.93599, saving model to /tmp/logreg.hdf5\n",
      "28633/28633 [==============================] - 0s - loss: 5.5993 - val_loss: 5.9360\n",
      "Epoch 28/200\n",
      "25000/28633 [=========================>....] - ETA: 0s - loss: 5.5144Epoch 00027: val_loss improved from 5.93599 to 5.87883, saving model to /tmp/logreg.hdf5\n",
      "28633/28633 [==============================] - 0s - loss: 5.5285 - val_loss: 5.8788\n",
      "Epoch 29/200\n",
      "25000/28633 [=========================>....] - ETA: 0s - loss: 5.4553Epoch 00028: val_loss improved from 5.87883 to 5.84305, saving model to /tmp/logreg.hdf5\n",
      "28633/28633 [==============================] - 0s - loss: 5.4479 - val_loss: 5.8430\n",
      "Epoch 30/200\n",
      "25000/28633 [=========================>....] - ETA: 0s - loss: 5.4009Epoch 00029: val_loss improved from 5.84305 to 5.78841, saving model to /tmp/logreg.hdf5\n",
      "28633/28633 [==============================] - 0s - loss: 5.3733 - val_loss: 5.7884\n",
      "Epoch 31/200\n",
      "25000/28633 [=========================>....] - ETA: 0s - loss: 5.2785Epoch 00030: val_loss improved from 5.78841 to 5.69114, saving model to /tmp/logreg.hdf5\n",
      "28633/28633 [==============================] - 0s - loss: 5.3008 - val_loss: 5.6911\n",
      "Epoch 32/200\n",
      "25000/28633 [=========================>....] - ETA: 0s - loss: 5.2469Epoch 00031: val_loss improved from 5.69114 to 5.66719, saving model to /tmp/logreg.hdf5\n",
      "28633/28633 [==============================] - 0s - loss: 5.2463 - val_loss: 5.6672\n",
      "Epoch 33/200\n",
      "25000/28633 [=========================>....] - ETA: 0s - loss: 5.1684Epoch 00032: val_loss improved from 5.66719 to 5.54927, saving model to /tmp/logreg.hdf5\n",
      "28633/28633 [==============================] - 0s - loss: 5.1483 - val_loss: 5.5493\n",
      "Epoch 34/200\n",
      "25000/28633 [=========================>....] - ETA: 0s - loss: 5.0781Epoch 00033: val_loss improved from 5.54927 to 5.48921, saving model to /tmp/logreg.hdf5\n",
      "28633/28633 [==============================] - 0s - loss: 5.0573 - val_loss: 5.4892\n",
      "Epoch 35/200\n",
      "25000/28633 [=========================>....] - ETA: 0s - loss: 4.9920Epoch 00034: val_loss improved from 5.48921 to 5.40800, saving model to /tmp/logreg.hdf5\n",
      "28633/28633 [==============================] - 0s - loss: 4.9925 - val_loss: 5.4080\n",
      "Epoch 36/200\n",
      "25000/28633 [=========================>....] - ETA: 0s - loss: 4.9092Epoch 00035: val_loss improved from 5.40800 to 5.30890, saving model to /tmp/logreg.hdf5\n",
      "28633/28633 [==============================] - 0s - loss: 4.9093 - val_loss: 5.3089\n",
      "Epoch 37/200\n",
      "25000/28633 [=========================>....] - ETA: 0s - loss: 4.7979Epoch 00036: val_loss improved from 5.30890 to 5.22024, saving model to /tmp/logreg.hdf5\n",
      "28633/28633 [==============================] - 0s - loss: 4.8134 - val_loss: 5.2202\n",
      "Epoch 38/200\n",
      "20000/28633 [===================>..........] - ETA: 0s - loss: 4.7275Epoch 00037: val_loss improved from 5.22024 to 5.12525, saving model to /tmp/logreg.hdf5\n",
      "28633/28633 [==============================] - 0s - loss: 4.7154 - val_loss: 5.1252\n",
      "Epoch 39/200\n",
      "20000/28633 [===================>..........] - ETA: 0s - loss: 4.6013Epoch 00038: val_loss improved from 5.12525 to 5.02051, saving model to /tmp/logreg.hdf5\n",
      "28633/28633 [==============================] - 0s - loss: 4.6010 - val_loss: 5.0205\n",
      "Epoch 40/200\n",
      "25000/28633 [=========================>....] - ETA: 0s - loss: 4.5292Epoch 00039: val_loss did not improve\n",
      "28633/28633 [==============================] - 0s - loss: 4.5161 - val_loss: 5.0363\n",
      "Epoch 41/200\n",
      "25000/28633 [=========================>....] - ETA: 0s - loss: 4.4893Epoch 00040: val_loss improved from 5.02051 to 4.83939, saving model to /tmp/logreg.hdf5\n",
      "28633/28633 [==============================] - 0s - loss: 4.4873 - val_loss: 4.8394\n",
      "Epoch 42/200\n",
      "25000/28633 [=========================>....] - ETA: 0s - loss: 4.3758Epoch 00041: val_loss improved from 4.83939 to 4.70655, saving model to /tmp/logreg.hdf5\n",
      "28633/28633 [==============================] - 0s - loss: 4.3822 - val_loss: 4.7065\n",
      "Epoch 43/200\n",
      "25000/28633 [=========================>....] - ETA: 0s - loss: 4.2390Epoch 00042: val_loss improved from 4.70655 to 4.62171, saving model to /tmp/logreg.hdf5\n",
      "28633/28633 [==============================] - 0s - loss: 4.2155 - val_loss: 4.6217\n",
      "Epoch 44/200\n",
      "25000/28633 [=========================>....] - ETA: 0s - loss: 4.1021Epoch 00043: val_loss improved from 4.62171 to 4.49686, saving model to /tmp/logreg.hdf5\n",
      "28633/28633 [==============================] - 0s - loss: 4.1079 - val_loss: 4.4969\n",
      "Epoch 45/200\n",
      "25000/28633 [=========================>....] - ETA: 0s - loss: 4.1096Epoch 00044: val_loss improved from 4.49686 to 4.41404, saving model to /tmp/logreg.hdf5\n",
      "28633/28633 [==============================] - 0s - loss: 4.0928 - val_loss: 4.4140\n",
      "Epoch 46/200\n",
      "25000/28633 [=========================>....] - ETA: 0s - loss: 3.9418Epoch 00045: val_loss improved from 4.41404 to 4.25949, saving model to /tmp/logreg.hdf5\n",
      "28633/28633 [==============================] - 0s - loss: 3.9365 - val_loss: 4.2595\n",
      "Epoch 47/200\n",
      "25000/28633 [=========================>....] - ETA: 0s - loss: 3.7965Epoch 00046: val_loss improved from 4.25949 to 4.19136, saving model to /tmp/logreg.hdf5\n",
      "28633/28633 [==============================] - 0s - loss: 3.7833 - val_loss: 4.1914\n",
      "Epoch 48/200\n",
      "25000/28633 [=========================>....] - ETA: 0s - loss: 3.7071Epoch 00047: val_loss improved from 4.19136 to 4.02100, saving model to /tmp/logreg.hdf5\n",
      "28633/28633 [==============================] - 0s - loss: 3.6992 - val_loss: 4.0210\n",
      "Epoch 49/200\n",
      "25000/28633 [=========================>....] - ETA: 0s - loss: 3.5940Epoch 00048: val_loss improved from 4.02100 to 3.97481, saving model to /tmp/logreg.hdf5\n",
      "28633/28633 [==============================] - 0s - loss: 3.5948 - val_loss: 3.9748\n",
      "Epoch 50/200\n",
      "25000/28633 [=========================>....] - ETA: 0s - loss: 3.5075Epoch 00049: val_loss improved from 3.97481 to 3.78212, saving model to /tmp/logreg.hdf5\n",
      "28633/28633 [==============================] - 0s - loss: 3.5068 - val_loss: 3.7821\n",
      "Epoch 51/200\n",
      "25000/28633 [=========================>....] - ETA: 0s - loss: 3.3532Epoch 00050: val_loss improved from 3.78212 to 3.69369, saving model to /tmp/logreg.hdf5\n",
      "28633/28633 [==============================] - 0s - loss: 3.3636 - val_loss: 3.6937\n",
      "Epoch 52/200\n",
      "25000/28633 [=========================>....] - ETA: 0s - loss: 3.2911Epoch 00051: val_loss improved from 3.69369 to 3.55058, saving model to /tmp/logreg.hdf5\n",
      "28633/28633 [==============================] - 0s - loss: 3.3002 - val_loss: 3.5506\n",
      "Epoch 53/200\n",
      "25000/28633 [=========================>....] - ETA: 0s - loss: 3.2139Epoch 00052: val_loss improved from 3.55058 to 3.48249, saving model to /tmp/logreg.hdf5\n",
      "28633/28633 [==============================] - 0s - loss: 3.2330 - val_loss: 3.4825\n",
      "Epoch 54/200\n",
      "25000/28633 [=========================>....] - ETA: 0s - loss: 3.0950Epoch 00053: val_loss improved from 3.48249 to 3.44844, saving model to /tmp/logreg.hdf5\n",
      "28633/28633 [==============================] - 0s - loss: 3.1204 - val_loss: 3.4484\n",
      "Epoch 55/200\n",
      "25000/28633 [=========================>....] - ETA: 0s - loss: 3.0576Epoch 00054: val_loss improved from 3.44844 to 3.44072, saving model to /tmp/logreg.hdf5\n",
      "28633/28633 [==============================] - 0s - loss: 3.0345 - val_loss: 3.4407\n",
      "Epoch 56/200\n",
      "25000/28633 [=========================>....] - ETA: 0s - loss: 3.0224Epoch 00055: val_loss improved from 3.44072 to 3.25085, saving model to /tmp/logreg.hdf5\n",
      "28633/28633 [==============================] - 0s - loss: 2.9986 - val_loss: 3.2508\n",
      "Epoch 57/200\n",
      "25000/28633 [=========================>....] - ETA: 0s - loss: 2.8609Epoch 00056: val_loss improved from 3.25085 to 3.00589, saving model to /tmp/logreg.hdf5\n",
      "28633/28633 [==============================] - 0s - loss: 2.8461 - val_loss: 3.0059\n",
      "Epoch 58/200\n",
      "25000/28633 [=========================>....] - ETA: 0s - loss: 2.7168Epoch 00057: val_loss improved from 3.00589 to 2.91087, saving model to /tmp/logreg.hdf5\n",
      "28633/28633 [==============================] - 0s - loss: 2.7191 - val_loss: 2.9109\n",
      "Epoch 59/200\n",
      "25000/28633 [=========================>....] - ETA: 0s - loss: 2.6498Epoch 00058: val_loss did not improve\n",
      "28633/28633 [==============================] - 0s - loss: 2.6412 - val_loss: 2.9509\n",
      "Epoch 60/200\n",
      "25000/28633 [=========================>....] - ETA: 0s - loss: 2.5589Epoch 00059: val_loss improved from 2.91087 to 2.72842, saving model to /tmp/logreg.hdf5\n",
      "28633/28633 [==============================] - 0s - loss: 2.5587 - val_loss: 2.7284\n",
      "Epoch 61/200\n",
      "20000/28633 [===================>..........] - ETA: 0s - loss: 2.4251Epoch 00060: val_loss did not improve\n",
      "28633/28633 [==============================] - 0s - loss: 2.4663 - val_loss: 2.8947\n",
      "Epoch 62/200\n",
      "25000/28633 [=========================>....] - ETA: 0s - loss: 2.4285Epoch 00061: val_loss improved from 2.72842 to 2.54329, saving model to /tmp/logreg.hdf5\n",
      "28633/28633 [==============================] - 0s - loss: 2.4375 - val_loss: 2.5433\n",
      "Epoch 63/200\n",
      "25000/28633 [=========================>....] - ETA: 0s - loss: 2.4304Epoch 00062: val_loss did not improve\n",
      "28633/28633 [==============================] - 0s - loss: 2.4217 - val_loss: 2.6271\n",
      "Epoch 64/200\n",
      "20000/28633 [===================>..........] - ETA: 0s - loss: 2.3062Epoch 00063: val_loss improved from 2.54329 to 2.45023, saving model to /tmp/logreg.hdf5\n",
      "28633/28633 [==============================] - 0s - loss: 2.2951 - val_loss: 2.4502\n",
      "Epoch 65/200\n",
      "25000/28633 [=========================>....] - ETA: 0s - loss: 2.1402Epoch 00064: val_loss improved from 2.45023 to 2.38847, saving model to /tmp/logreg.hdf5\n"
     ]
    },
    {
     "name": "stdout",
     "output_type": "stream",
     "text": [
      "28633/28633 [==============================] - 0s - loss: 2.1558 - val_loss: 2.3885\n",
      "Epoch 66/200\n",
      "25000/28633 [=========================>....] - ETA: 0s - loss: 2.0861Epoch 00065: val_loss improved from 2.38847 to 2.27637, saving model to /tmp/logreg.hdf5\n",
      "28633/28633 [==============================] - 0s - loss: 2.0784 - val_loss: 2.2764\n",
      "Epoch 67/200\n",
      "25000/28633 [=========================>....] - ETA: 0s - loss: 1.9942Epoch 00066: val_loss improved from 2.27637 to 2.14192, saving model to /tmp/logreg.hdf5\n",
      "28633/28633 [==============================] - 0s - loss: 1.9929 - val_loss: 2.1419\n",
      "Epoch 68/200\n",
      "25000/28633 [=========================>....] - ETA: 0s - loss: 1.9281Epoch 00067: val_loss did not improve\n",
      "28633/28633 [==============================] - 0s - loss: 1.9384 - val_loss: 2.2576\n",
      "Epoch 69/200\n",
      "25000/28633 [=========================>....] - ETA: 0s - loss: 2.0001Epoch 00068: val_loss did not improve\n",
      "28633/28633 [==============================] - 0s - loss: 1.9799 - val_loss: 2.1983\n",
      "Epoch 70/200\n",
      "25000/28633 [=========================>....] - ETA: 0s - loss: 2.0777Epoch 00069: val_loss did not improve\n",
      "28633/28633 [==============================] - 0s - loss: 2.0421 - val_loss: 2.3720\n",
      "Epoch 71/200\n",
      "25000/28633 [=========================>....] - ETA: 0s - loss: 2.0162Epoch 00070: val_loss improved from 2.14192 to 1.96208, saving model to /tmp/logreg.hdf5\n",
      "28633/28633 [==============================] - 0s - loss: 2.0341 - val_loss: 1.9621\n",
      "Epoch 72/200\n",
      "25000/28633 [=========================>....] - ETA: 0s - loss: 1.7830Epoch 00071: val_loss improved from 1.96208 to 1.85647, saving model to /tmp/logreg.hdf5\n",
      "28633/28633 [==============================] - 0s - loss: 1.7729 - val_loss: 1.8565\n",
      "Epoch 73/200\n",
      "25000/28633 [=========================>....] - ETA: 0s - loss: 1.7552Epoch 00072: val_loss improved from 1.85647 to 1.78892, saving model to /tmp/logreg.hdf5\n",
      "28633/28633 [==============================] - 0s - loss: 1.7432 - val_loss: 1.7889\n",
      "Epoch 74/200\n",
      "25000/28633 [=========================>....] - ETA: 0s - loss: 1.6373Epoch 00073: val_loss improved from 1.78892 to 1.74760, saving model to /tmp/logreg.hdf5\n",
      "28633/28633 [==============================] - 0s - loss: 1.6441 - val_loss: 1.7476\n",
      "Epoch 75/200\n",
      "25000/28633 [=========================>....] - ETA: 0s - loss: 1.6462Epoch 00074: val_loss did not improve\n",
      "28633/28633 [==============================] - 0s - loss: 1.6498 - val_loss: 1.7715\n",
      "Epoch 76/200\n",
      "25000/28633 [=========================>....] - ETA: 0s - loss: 1.6383Epoch 00075: val_loss improved from 1.74760 to 1.67674, saving model to /tmp/logreg.hdf5\n",
      "28633/28633 [==============================] - 0s - loss: 1.6465 - val_loss: 1.6767\n",
      "Epoch 77/200\n",
      "25000/28633 [=========================>....] - ETA: 0s - loss: 1.5354Epoch 00076: val_loss did not improve\n",
      "28633/28633 [==============================] - 0s - loss: 1.5442 - val_loss: 1.7230\n",
      "Epoch 78/200\n",
      "25000/28633 [=========================>....] - ETA: 0s - loss: 1.5078Epoch 00077: val_loss improved from 1.67674 to 1.56682, saving model to /tmp/logreg.hdf5\n",
      "28633/28633 [==============================] - 0s - loss: 1.4900 - val_loss: 1.5668\n",
      "Epoch 79/200\n",
      "25000/28633 [=========================>....] - ETA: 0s - loss: 1.4420Epoch 00078: val_loss did not improve\n",
      "28633/28633 [==============================] - 0s - loss: 1.4560 - val_loss: 1.7200\n",
      "Epoch 80/200\n",
      "25000/28633 [=========================>....] - ETA: 0s - loss: 1.5608Epoch 00079: val_loss improved from 1.56682 to 1.49557, saving model to /tmp/logreg.hdf5\n",
      "28633/28633 [==============================] - 0s - loss: 1.5330 - val_loss: 1.4956\n",
      "Epoch 81/200\n",
      "25000/28633 [=========================>....] - ETA: 0s - loss: 1.4153Epoch 00080: val_loss did not improve\n",
      "28633/28633 [==============================] - 0s - loss: 1.4236 - val_loss: 1.5757\n",
      "Epoch 82/200\n",
      "20000/28633 [===================>..........] - ETA: 0s - loss: 1.3439Epoch 00081: val_loss did not improve\n",
      "28633/28633 [==============================] - 0s - loss: 1.3769 - val_loss: 1.5426\n",
      "Epoch 83/200\n",
      "25000/28633 [=========================>....] - ETA: 0s - loss: 1.3676Epoch 00082: val_loss did not improve\n",
      "28633/28633 [==============================] - 0s - loss: 1.3834 - val_loss: 1.5749\n",
      "Epoch 84/200\n",
      "25000/28633 [=========================>....] - ETA: 0s - loss: 1.3578Epoch 00083: val_loss improved from 1.49557 to 1.41804, saving model to /tmp/logreg.hdf5\n",
      "28633/28633 [==============================] - 0s - loss: 1.3472 - val_loss: 1.4180\n",
      "Epoch 85/200\n",
      "25000/28633 [=========================>....] - ETA: 0s - loss: 1.3255Epoch 00084: val_loss improved from 1.41804 to 1.41644, saving model to /tmp/logreg.hdf5\n",
      "28633/28633 [==============================] - 0s - loss: 1.3315 - val_loss: 1.4164\n",
      "Epoch 86/200\n",
      "25000/28633 [=========================>....] - ETA: 0s - loss: 1.2333Epoch 00085: val_loss improved from 1.41644 to 1.31594, saving model to /tmp/logreg.hdf5\n",
      "28633/28633 [==============================] - 0s - loss: 1.2296 - val_loss: 1.3159\n",
      "Epoch 87/200\n",
      "25000/28633 [=========================>....] - ETA: 0s - loss: 1.3352Epoch 00086: val_loss improved from 1.31594 to 1.28603, saving model to /tmp/logreg.hdf5\n",
      "28633/28633 [==============================] - 0s - loss: 1.3374 - val_loss: 1.2860\n",
      "Epoch 88/200\n",
      "25000/28633 [=========================>....] - ETA: 0s - loss: 1.2209Epoch 00087: val_loss did not improve\n",
      "28633/28633 [==============================] - 0s - loss: 1.2619 - val_loss: 1.5132\n",
      "Epoch 89/200\n",
      "25000/28633 [=========================>....] - ETA: 0s - loss: 1.3080Epoch 00088: val_loss did not improve\n",
      "28633/28633 [==============================] - 0s - loss: 1.3328 - val_loss: 1.4485\n",
      "Epoch 90/200\n",
      "25000/28633 [=========================>....] - ETA: 0s - loss: 1.1927Epoch 00089: val_loss improved from 1.28603 to 1.21502, saving model to /tmp/logreg.hdf5\n",
      "28633/28633 [==============================] - 0s - loss: 1.1812 - val_loss: 1.2150\n",
      "Epoch 91/200\n",
      "25000/28633 [=========================>....] - ETA: 0s - loss: 1.1628Epoch 00090: val_loss did not improve\n",
      "28633/28633 [==============================] - 0s - loss: 1.1872 - val_loss: 1.3284\n",
      "Epoch 92/200\n",
      "25000/28633 [=========================>....] - ETA: 0s - loss: 1.1238Epoch 00091: val_loss did not improve\n",
      "28633/28633 [==============================] - 0s - loss: 1.1351 - val_loss: 1.3816\n",
      "Epoch 93/200\n",
      "25000/28633 [=========================>....] - ETA: 0s - loss: 1.2531Epoch 00092: val_loss improved from 1.21502 to 1.17772, saving model to /tmp/logreg.hdf5\n",
      "28633/28633 [==============================] - 0s - loss: 1.2266 - val_loss: 1.1777\n",
      "Epoch 94/200\n",
      "25000/28633 [=========================>....] - ETA: 0s - loss: 1.1852Epoch 00093: val_loss did not improve\n",
      "28633/28633 [==============================] - 0s - loss: 1.1954 - val_loss: 1.2746\n",
      "Epoch 95/200\n",
      "25000/28633 [=========================>....] - ETA: 0s - loss: 1.0744Epoch 00094: val_loss did not improve\n",
      "28633/28633 [==============================] - 0s - loss: 1.0793 - val_loss: 1.1922\n",
      "Epoch 96/200\n",
      "25000/28633 [=========================>....] - ETA: 0s - loss: 1.1362Epoch 00095: val_loss improved from 1.17772 to 1.16667, saving model to /tmp/logreg.hdf5\n",
      "28633/28633 [==============================] - 0s - loss: 1.1358 - val_loss: 1.1667\n",
      "Epoch 97/200\n",
      "25000/28633 [=========================>....] - ETA: 0s - loss: 1.0574Epoch 00096: val_loss did not improve\n",
      "28633/28633 [==============================] - 0s - loss: 1.1029 - val_loss: 1.4268\n",
      "Epoch 98/200\n",
      "25000/28633 [=========================>....] - ETA: 0s - loss: 1.0945Epoch 00097: val_loss did not improve\n",
      "28633/28633 [==============================] - 0s - loss: 1.1074 - val_loss: 1.4112\n",
      "Epoch 99/200\n",
      "25000/28633 [=========================>....] - ETA: 0s - loss: 1.1181Epoch 00098: val_loss did not improve\n",
      "28633/28633 [==============================] - 0s - loss: 1.1283 - val_loss: 1.4727\n",
      "Epoch 100/200\n",
      "25000/28633 [=========================>....] - ETA: 0s - loss: 1.1898Epoch 00099: val_loss improved from 1.16667 to 1.09319, saving model to /tmp/logreg.hdf5\n",
      "28633/28633 [==============================] - 0s - loss: 1.2184 - val_loss: 1.0932\n",
      "Epoch 101/200\n",
      "25000/28633 [=========================>....] - ETA: 0s - loss: 1.0828Epoch 00100: val_loss did not improve\n"
     ]
    },
    {
     "name": "stdout",
     "output_type": "stream",
     "text": [
      "28633/28633 [==============================] - 0s - loss: 1.0691 - val_loss: 1.3919\n",
      "Epoch 102/200\n",
      "25000/28633 [=========================>....] - ETA: 0s - loss: 1.1184Epoch 00101: val_loss did not improve\n",
      "28633/28633 [==============================] - 0s - loss: 1.1080 - val_loss: 1.2155\n",
      "Epoch 103/200\n",
      "25000/28633 [=========================>....] - ETA: 0s - loss: 1.0440Epoch 00102: val_loss improved from 1.09319 to 0.99646, saving model to /tmp/logreg.hdf5\n",
      "28633/28633 [==============================] - 0s - loss: 1.0292 - val_loss: 0.9965\n",
      "Epoch 104/200\n",
      "25000/28633 [=========================>....] - ETA: 0s - loss: 0.9244Epoch 00103: val_loss did not improve\n",
      "28633/28633 [==============================] - 0s - loss: 0.9300 - val_loss: 1.1240\n",
      "Epoch 105/200\n",
      "25000/28633 [=========================>....] - ETA: 0s - loss: 1.0401Epoch 00104: val_loss did not improve\n",
      "28633/28633 [==============================] - 0s - loss: 1.0191 - val_loss: 1.0401\n",
      "Epoch 106/200\n",
      "25000/28633 [=========================>....] - ETA: 0s - loss: 1.0354Epoch 00105: val_loss did not improve\n",
      "28633/28633 [==============================] - 0s - loss: 1.0229 - val_loss: 1.0195\n",
      "Epoch 107/200\n",
      "25000/28633 [=========================>....] - ETA: 0s - loss: 0.9364Epoch 00106: val_loss improved from 0.99646 to 0.95132, saving model to /tmp/logreg.hdf5\n",
      "28633/28633 [==============================] - 0s - loss: 0.9283 - val_loss: 0.9513\n",
      "Epoch 108/200\n",
      "25000/28633 [=========================>....] - ETA: 0s - loss: 0.8863Epoch 00107: val_loss did not improve\n",
      "28633/28633 [==============================] - 0s - loss: 0.9044 - val_loss: 1.2827\n",
      "Epoch 109/200\n",
      "25000/28633 [=========================>....] - ETA: 0s - loss: 1.0084Epoch 00108: val_loss did not improve\n",
      "28633/28633 [==============================] - 0s - loss: 0.9871 - val_loss: 0.9565\n",
      "Epoch 110/200\n",
      "25000/28633 [=========================>....] - ETA: 0s - loss: 1.0145Epoch 00109: val_loss improved from 0.95132 to 0.93383, saving model to /tmp/logreg.hdf5\n",
      "28633/28633 [==============================] - 0s - loss: 1.0062 - val_loss: 0.9338\n",
      "Epoch 111/200\n",
      "25000/28633 [=========================>....] - ETA: 0s - loss: 0.8730Epoch 00110: val_loss did not improve\n",
      "28633/28633 [==============================] - 0s - loss: 0.8857 - val_loss: 1.0726\n",
      "Epoch 112/200\n",
      "25000/28633 [=========================>....] - ETA: 0s - loss: 0.9561Epoch 00111: val_loss did not improve\n",
      "28633/28633 [==============================] - 0s - loss: 0.9576 - val_loss: 1.1218\n",
      "Epoch 113/200\n",
      "25000/28633 [=========================>....] - ETA: 0s - loss: 0.9614Epoch 00112: val_loss did not improve\n",
      "28633/28633 [==============================] - 0s - loss: 0.9479 - val_loss: 1.0130\n",
      "Epoch 114/200\n",
      "25000/28633 [=========================>....] - ETA: 0s - loss: 0.9581Epoch 00113: val_loss improved from 0.93383 to 0.89168, saving model to /tmp/logreg.hdf5\n",
      "28633/28633 [==============================] - 0s - loss: 0.9422 - val_loss: 0.8917\n",
      "Epoch 115/200\n",
      "25000/28633 [=========================>....] - ETA: 0s - loss: 0.9374Epoch 00114: val_loss did not improve\n",
      "28633/28633 [==============================] - 0s - loss: 0.9437 - val_loss: 0.9935\n",
      "Epoch 116/200\n",
      "25000/28633 [=========================>....] - ETA: 0s - loss: 0.8388Epoch 00115: val_loss improved from 0.89168 to 0.87142, saving model to /tmp/logreg.hdf5\n",
      "28633/28633 [==============================] - 0s - loss: 0.8376 - val_loss: 0.8714\n",
      "Epoch 117/200\n",
      "25000/28633 [=========================>....] - ETA: 0s - loss: 0.8565Epoch 00116: val_loss did not improve\n",
      "28633/28633 [==============================] - 0s - loss: 0.8858 - val_loss: 1.2624\n",
      "Epoch 118/200\n",
      "25000/28633 [=========================>....] - ETA: 0s - loss: 0.9275Epoch 00117: val_loss did not improve\n",
      "28633/28633 [==============================] - 0s - loss: 0.9183 - val_loss: 1.0638\n",
      "Epoch 119/200\n",
      "25000/28633 [=========================>....] - ETA: 0s - loss: 0.9576Epoch 00118: val_loss did not improve\n",
      "28633/28633 [==============================] - 0s - loss: 0.9417 - val_loss: 1.0422\n",
      "Epoch 120/200\n",
      "25000/28633 [=========================>....] - ETA: 0s - loss: 0.9866Epoch 00119: val_loss did not improve\n",
      "28633/28633 [==============================] - 0s - loss: 0.9623 - val_loss: 0.8918\n",
      "Epoch 121/200\n",
      "25000/28633 [=========================>....] - ETA: 0s - loss: 0.9503Epoch 00120: val_loss improved from 0.87142 to 0.85132, saving model to /tmp/logreg.hdf5\n",
      "28633/28633 [==============================] - 0s - loss: 0.9330 - val_loss: 0.8513\n",
      "Epoch 122/200\n",
      "25000/28633 [=========================>....] - ETA: 0s - loss: 0.7935Epoch 00121: val_loss did not improve\n",
      "28633/28633 [==============================] - 0s - loss: 0.8035 - val_loss: 0.9476\n",
      "Epoch 123/200\n",
      "25000/28633 [=========================>....] - ETA: 0s - loss: 0.8958Epoch 00122: val_loss did not improve\n",
      "28633/28633 [==============================] - 0s - loss: 0.8832 - val_loss: 0.8679\n",
      "Epoch 124/200\n",
      "25000/28633 [=========================>....] - ETA: 0s - loss: 0.8557Epoch 00123: val_loss did not improve\n",
      "28633/28633 [==============================] - 0s - loss: 0.8590 - val_loss: 0.9199\n",
      "Epoch 125/200\n",
      "25000/28633 [=========================>....] - ETA: 0s - loss: 0.8210Epoch 00124: val_loss did not improve\n",
      "28633/28633 [==============================] - 0s - loss: 0.8137 - val_loss: 0.8874\n",
      "Epoch 126/200\n",
      "25000/28633 [=========================>....] - ETA: 0s - loss: 0.9461Epoch 00125: val_loss improved from 0.85132 to 0.83884, saving model to /tmp/logreg.hdf5\n",
      "28633/28633 [==============================] - 0s - loss: 0.9296 - val_loss: 0.8388\n",
      "Epoch 127/200\n",
      "25000/28633 [=========================>....] - ETA: 0s - loss: 0.7725Epoch 00126: val_loss did not improve\n",
      "28633/28633 [==============================] - 0s - loss: 0.7913 - val_loss: 1.1376\n",
      "Epoch 128/200\n",
      "25000/28633 [=========================>....] - ETA: 0s - loss: 0.8881Epoch 00127: val_loss did not improve\n",
      "28633/28633 [==============================] - 0s - loss: 0.8858 - val_loss: 1.1530\n",
      "Epoch 129/200\n",
      "25000/28633 [=========================>....] - ETA: 0s - loss: 0.9082Epoch 00128: val_loss did not improve\n",
      "28633/28633 [==============================] - 0s - loss: 0.8973 - val_loss: 1.0033\n",
      "Epoch 130/200\n",
      "25000/28633 [=========================>....] - ETA: 0s - loss: 0.9206Epoch 00129: val_loss improved from 0.83884 to 0.83152, saving model to /tmp/logreg.hdf5\n",
      "28633/28633 [==============================] - 0s - loss: 0.8982 - val_loss: 0.8315\n",
      "Epoch 131/200\n",
      "25000/28633 [=========================>....] - ETA: 0s - loss: 0.7715Epoch 00130: val_loss improved from 0.83152 to 0.80438, saving model to /tmp/logreg.hdf5\n",
      "28633/28633 [==============================] - 0s - loss: 0.7668 - val_loss: 0.8044\n",
      "Epoch 132/200\n",
      "25000/28633 [=========================>....] - ETA: 0s - loss: 0.8755Epoch 00131: val_loss did not improve\n",
      "28633/28633 [==============================] - 0s - loss: 0.8746 - val_loss: 0.8685\n",
      "Epoch 133/200\n",
      "25000/28633 [=========================>....] - ETA: 0s - loss: 0.8047Epoch 00132: val_loss did not improve\n",
      "28633/28633 [==============================] - 0s - loss: 0.8097 - val_loss: 0.9231\n",
      "Epoch 134/200\n",
      "25000/28633 [=========================>....] - ETA: 0s - loss: 0.8265Epoch 00133: val_loss did not improve\n",
      "28633/28633 [==============================] - 0s - loss: 0.8203 - val_loss: 0.8295\n",
      "Epoch 135/200\n",
      "25000/28633 [=========================>....] - ETA: 0s - loss: 0.8739Epoch 00134: val_loss did not improve\n",
      "28633/28633 [==============================] - 0s - loss: 0.8741 - val_loss: 0.8661\n",
      "Epoch 136/200\n",
      "25000/28633 [=========================>....] - ETA: 0s - loss: 0.7649Epoch 00135: val_loss improved from 0.80438 to 0.78805, saving model to /tmp/logreg.hdf5\n",
      "28633/28633 [==============================] - 0s - loss: 0.7613 - val_loss: 0.7880\n",
      "Epoch 137/200\n",
      "25000/28633 [=========================>....] - ETA: 0s - loss: 0.7728Epoch 00136: val_loss did not improve\n",
      "28633/28633 [==============================] - 0s - loss: 0.7980 - val_loss: 0.9844\n",
      "Epoch 138/200\n",
      "25000/28633 [=========================>....] - ETA: 0s - loss: 0.7925Epoch 00137: val_loss improved from 0.78805 to 0.77673, saving model to /tmp/logreg.hdf5\n",
      "28633/28633 [==============================] - 0s - loss: 0.7847 - val_loss: 0.7767\n",
      "Epoch 139/200\n",
      "25000/28633 [=========================>....] - ETA: 0s - loss: 0.7211Epoch 00138: val_loss improved from 0.77673 to 0.77514, saving model to /tmp/logreg.hdf5\n",
      "28633/28633 [==============================] - 0s - loss: 0.7230 - val_loss: 0.7751\n",
      "Epoch 140/200\n",
      "25000/28633 [=========================>....] - ETA: 0s - loss: 0.8199Epoch 00139: val_loss did not improve\n",
      "28633/28633 [==============================] - 0s - loss: 0.8343 - val_loss: 0.8674\n",
      "Epoch 141/200\n",
      "25000/28633 [=========================>....] - ETA: 0s - loss: 0.7709Epoch 00140: val_loss did not improve\n",
      "28633/28633 [==============================] - 0s - loss: 0.7841 - val_loss: 1.0643\n",
      "Epoch 142/200\n",
      "25000/28633 [=========================>....] - ETA: 0s - loss: 0.8429Epoch 00141: val_loss did not improve\n",
      "28633/28633 [==============================] - 0s - loss: 0.8312 - val_loss: 0.9712\n",
      "Epoch 143/200\n",
      "25000/28633 [=========================>....] - ETA: 0s - loss: 0.8851Epoch 00142: val_loss did not improve\n",
      "28633/28633 [==============================] - 0s - loss: 0.8909 - val_loss: 1.1070\n",
      "Epoch 144/200\n",
      "25000/28633 [=========================>....] - ETA: 0s - loss: 0.8403Epoch 00143: val_loss did not improve\n",
      "28633/28633 [==============================] - 0s - loss: 0.8323 - val_loss: 0.8749\n",
      "Epoch 145/200\n",
      "25000/28633 [=========================>....] - ETA: 0s - loss: 0.8304Epoch 00144: val_loss improved from 0.77514 to 0.76763, saving model to /tmp/logreg.hdf5\n",
      "28633/28633 [==============================] - 0s - loss: 0.8171 - val_loss: 0.7676\n",
      "Epoch 146/200\n",
      "25000/28633 [=========================>....] - ETA: 0s - loss: 0.7160Epoch 00145: val_loss did not improve\n",
      "28633/28633 [==============================] - 0s - loss: 0.7208 - val_loss: 0.8291\n",
      "Epoch 147/200\n",
      "25000/28633 [=========================>....] - ETA: 0s - loss: 0.7840Epoch 00146: val_loss did not improve\n",
      "28633/28633 [==============================] - 0s - loss: 0.7854 - val_loss: 0.8631\n",
      "Epoch 148/200\n",
      "25000/28633 [=========================>....] - ETA: 0s - loss: 0.8242Epoch 00147: val_loss did not improve\n",
      "28633/28633 [==============================] - 0s - loss: 0.8249 - val_loss: 0.8438\n",
      "Epoch 149/200\n",
      "25000/28633 [=========================>....] - ETA: 0s - loss: 0.7992Epoch 00148: val_loss did not improve\n",
      "28633/28633 [==============================] - 0s - loss: 0.8148 - val_loss: 0.9159\n",
      "Epoch 150/200\n",
      "25000/28633 [=========================>....] - ETA: 0s - loss: 0.8106Epoch 00149: val_loss did not improve\n",
      "28633/28633 [==============================] - 0s - loss: 0.8015 - val_loss: 0.7735\n",
      "Epoch 151/200\n",
      "25000/28633 [=========================>....] - ETA: 0s - loss: 0.7100Epoch 00150: val_loss did not improve\n",
      "28633/28633 [==============================] - 0s - loss: 0.7223 - val_loss: 0.9726\n",
      "Epoch 152/200\n",
      "25000/28633 [=========================>....] - ETA: 0s - loss: 0.8463Epoch 00151: val_loss did not improve\n",
      "28633/28633 [==============================] - 0s - loss: 0.8537 - val_loss: 1.1228\n",
      "Epoch 153/200\n",
      "25000/28633 [=========================>....] - ETA: 0s - loss: 0.8058Epoch 00152: val_loss did not improve\n",
      "28633/28633 [==============================] - 0s - loss: 0.8056 - val_loss: 0.9085\n",
      "Epoch 154/200\n",
      "25000/28633 [=========================>....] - ETA: 0s - loss: 0.8061Epoch 00153: val_loss did not improve\n",
      "28633/28633 [==============================] - 0s - loss: 0.7993 - val_loss: 0.8345\n",
      "Epoch 155/200\n",
      "25000/28633 [=========================>....] - ETA: 0s - loss: 0.8456Epoch 00154: val_loss improved from 0.76763 to 0.74593, saving model to /tmp/logreg.hdf5\n",
      "28633/28633 [==============================] - 0s - loss: 0.8291 - val_loss: 0.7459\n",
      "Epoch 156/200\n",
      "25000/28633 [=========================>....] - ETA: 0s - loss: 0.8148Epoch 00155: val_loss did not improve\n",
      "28633/28633 [==============================] - 0s - loss: 0.8309 - val_loss: 0.8218\n",
      "Epoch 157/200\n",
      "25000/28633 [=========================>....] - ETA: 0s - loss: 0.8179Epoch 00156: val_loss did not improve\n",
      "28633/28633 [==============================] - 0s - loss: 0.8176 - val_loss: 0.7539\n",
      "Epoch 158/200\n",
      "25000/28633 [=========================>....] - ETA: 0s - loss: 0.8027Epoch 00157: val_loss did not improve\n",
      "28633/28633 [==============================] - 0s - loss: 0.7955 - val_loss: 0.7475\n",
      "Epoch 159/200\n",
      "25000/28633 [=========================>....] - ETA: 0s - loss: 0.8116Epoch 00158: val_loss did not improve\n",
      "28633/28633 [==============================] - 0s - loss: 0.8140 - val_loss: 0.8138\n",
      "Epoch 160/200\n",
      "25000/28633 [=========================>....] - ETA: 0s - loss: 0.7220Epoch 00159: val_loss did not improve\n",
      "28633/28633 [==============================] - 0s - loss: 0.7246 - val_loss: 0.8604\n",
      "Epoch 161/200\n",
      "25000/28633 [=========================>....] - ETA: 0s - loss: 0.7965Epoch 00160: val_loss did not improve\n",
      "28633/28633 [==============================] - 0s - loss: 0.7899 - val_loss: 0.7671\n",
      "Epoch 162/200\n",
      "25000/28633 [=========================>....] - ETA: 0s - loss: 0.7081Epoch 00161: val_loss did not improve\n",
      "28633/28633 [==============================] - 0s - loss: 0.7194 - val_loss: 0.9141\n",
      "Epoch 163/200\n",
      "25000/28633 [=========================>....] - ETA: 0s - loss: 0.8259Epoch 00162: val_loss did not improve\n",
      "28633/28633 [==============================] - 0s - loss: 0.8116 - val_loss: 0.8399\n",
      "Epoch 164/200\n",
      "25000/28633 [=========================>....] - ETA: 0s - loss: 0.7953Epoch 00163: val_loss did not improve\n",
      "28633/28633 [==============================] - 0s - loss: 0.7817 - val_loss: 0.7465\n",
      "Epoch 165/200\n",
      "25000/28633 [=========================>....] - ETA: 0s - loss: 0.8009Epoch 00164: val_loss did not improve\n",
      "28633/28633 [==============================] - 0s - loss: 0.7894 - val_loss: 0.7505\n",
      "Epoch 166/200\n",
      "25000/28633 [=========================>....] - ETA: 0s - loss: 0.8442Epoch 00165: val_loss did not improve\n",
      "\n",
      "Epoch 00165: reducing learning rate to 0.00010000000474974513.\n",
      "28633/28633 [==============================] - 0s - loss: 0.8299 - val_loss: 0.9003\n",
      "Epoch 167/200\n",
      "25000/28633 [=========================>....] - ETA: 0s - loss: 0.7705Epoch 00166: val_loss did not improve\n",
      "28633/28633 [==============================] - 0s - loss: 0.7714 - val_loss: 0.8010\n",
      "Epoch 168/200\n",
      "25000/28633 [=========================>....] - ETA: 0s - loss: 0.7283Epoch 00167: val_loss improved from 0.74593 to 0.73582, saving model to /tmp/logreg.hdf5\n",
      "28633/28633 [==============================] - 0s - loss: 0.7266 - val_loss: 0.7358\n",
      "Epoch 169/200\n",
      "25000/28633 [=========================>....] - ETA: 0s - loss: 0.7084Epoch 00168: val_loss did not improve\n",
      "28633/28633 [==============================] - 0s - loss: 0.7062 - val_loss: 0.7452\n",
      "Epoch 170/200\n",
      "25000/28633 [=========================>....] - ETA: 0s - loss: 0.7003Epoch 00169: val_loss did not improve\n",
      "28633/28633 [==============================] - 0s - loss: 0.6985 - val_loss: 0.7505\n",
      "Epoch 171/200\n",
      "25000/28633 [=========================>....] - ETA: 0s - loss: 0.6931Epoch 00170: val_loss improved from 0.73582 to 0.73468, saving model to /tmp/logreg.hdf5\n",
      "28633/28633 [==============================] - 0s - loss: 0.6933 - val_loss: 0.7347\n",
      "Epoch 172/200\n",
      "25000/28633 [=========================>....] - ETA: 0s - loss: 0.6892Epoch 00171: val_loss improved from 0.73468 to 0.73203, saving model to /tmp/logreg.hdf5\n",
      "28633/28633 [==============================] - 0s - loss: 0.6882 - val_loss: 0.7320\n",
      "Epoch 173/200\n",
      "25000/28633 [=========================>....] - ETA: 0s - loss: 0.6860Epoch 00172: val_loss did not improve\n",
      "28633/28633 [==============================] - 0s - loss: 0.6866 - val_loss: 0.7334\n",
      "Epoch 174/200\n",
      "25000/28633 [=========================>....] - ETA: 0s - loss: 0.6860Epoch 00173: val_loss improved from 0.73203 to 0.73098, saving model to /tmp/logreg.hdf5\n",
      "28633/28633 [==============================] - 0s - loss: 0.6856 - val_loss: 0.7310\n",
      "Epoch 175/200\n",
      "25000/28633 [=========================>....] - ETA: 0s - loss: 0.6853Epoch 00174: val_loss improved from 0.73098 to 0.73072, saving model to /tmp/logreg.hdf5\n",
      "28633/28633 [==============================] - 0s - loss: 0.6855 - val_loss: 0.7307\n",
      "Epoch 176/200\n"
     ]
    },
    {
     "name": "stdout",
     "output_type": "stream",
     "text": [
      "25000/28633 [=========================>....] - ETA: 0s - loss: 0.6851Epoch 00175: val_loss did not improve\n",
      "28633/28633 [==============================] - 0s - loss: 0.6850 - val_loss: 0.7320\n",
      "Epoch 177/200\n",
      "25000/28633 [=========================>....] - ETA: 0s - loss: 0.6854Epoch 00176: val_loss improved from 0.73072 to 0.73070, saving model to /tmp/logreg.hdf5\n",
      "28633/28633 [==============================] - 0s - loss: 0.6851 - val_loss: 0.7307\n",
      "Epoch 178/200\n",
      "25000/28633 [=========================>....] - ETA: 0s - loss: 0.6850Epoch 00177: val_loss improved from 0.73070 to 0.72992, saving model to /tmp/logreg.hdf5\n",
      "28633/28633 [==============================] - 0s - loss: 0.6851 - val_loss: 0.7299\n",
      "Epoch 179/200\n",
      "25000/28633 [=========================>....] - ETA: 0s - loss: 0.6842Epoch 00178: val_loss did not improve\n",
      "28633/28633 [==============================] - 0s - loss: 0.6849 - val_loss: 0.7303\n",
      "Epoch 180/200\n",
      "25000/28633 [=========================>....] - ETA: 0s - loss: 0.6834Epoch 00179: val_loss did not improve\n",
      "28633/28633 [==============================] - 0s - loss: 0.6848 - val_loss: 0.7311\n",
      "Epoch 181/200\n",
      "25000/28633 [=========================>....] - ETA: 0s - loss: 0.6850Epoch 00180: val_loss improved from 0.72992 to 0.72980, saving model to /tmp/logreg.hdf5\n",
      "28633/28633 [==============================] - 0s - loss: 0.6847 - val_loss: 0.7298\n",
      "Epoch 182/200\n",
      "25000/28633 [=========================>....] - ETA: 0s - loss: 0.6857Epoch 00181: val_loss did not improve\n",
      "28633/28633 [==============================] - 0s - loss: 0.6845 - val_loss: 0.7298\n",
      "Epoch 183/200\n",
      "25000/28633 [=========================>....] - ETA: 0s - loss: 0.6842Epoch 00182: val_loss improved from 0.72980 to 0.72915, saving model to /tmp/logreg.hdf5\n",
      "28633/28633 [==============================] - 0s - loss: 0.6845 - val_loss: 0.7292\n",
      "Epoch 184/200\n",
      "25000/28633 [=========================>....] - ETA: 0s - loss: 0.6841Epoch 00183: val_loss did not improve\n",
      "28633/28633 [==============================] - 0s - loss: 0.6843 - val_loss: 0.7294\n",
      "Epoch 185/200\n",
      "25000/28633 [=========================>....] - ETA: 0s - loss: 0.6850Epoch 00184: val_loss did not improve\n",
      "28633/28633 [==============================] - 0s - loss: 0.6844 - val_loss: 0.7300\n",
      "Epoch 186/200\n",
      "25000/28633 [=========================>....] - ETA: 0s - loss: 0.6841Epoch 00185: val_loss did not improve\n",
      "28633/28633 [==============================] - 0s - loss: 0.6844 - val_loss: 0.7293\n",
      "Epoch 187/200\n",
      "25000/28633 [=========================>....] - ETA: 0s - loss: 0.6840Epoch 00186: val_loss did not improve\n",
      "28633/28633 [==============================] - 0s - loss: 0.6842 - val_loss: 0.7293\n",
      "Epoch 188/200\n",
      "25000/28633 [=========================>....] - ETA: 0s - loss: 0.6850Epoch 00187: val_loss improved from 0.72915 to 0.72854, saving model to /tmp/logreg.hdf5\n",
      "28633/28633 [==============================] - 0s - loss: 0.6841 - val_loss: 0.7285\n",
      "Epoch 189/200\n",
      "25000/28633 [=========================>....] - ETA: 0s - loss: 0.6832Epoch 00188: val_loss did not improve\n",
      "28633/28633 [==============================] - 0s - loss: 0.6842 - val_loss: 0.7286\n",
      "Epoch 190/200\n",
      "25000/28633 [=========================>....] - ETA: 0s - loss: 0.6847Epoch 00189: val_loss did not improve\n",
      "28633/28633 [==============================] - 0s - loss: 0.6842 - val_loss: 0.7293\n",
      "Epoch 191/200\n",
      "25000/28633 [=========================>....] - ETA: 0s - loss: 0.6836Epoch 00190: val_loss did not improve\n",
      "28633/28633 [==============================] - 0s - loss: 0.6841 - val_loss: 0.7288\n",
      "Epoch 192/200\n",
      "25000/28633 [=========================>....] - ETA: 0s - loss: 0.6836Epoch 00191: val_loss improved from 0.72854 to 0.72827, saving model to /tmp/logreg.hdf5\n",
      "28633/28633 [==============================] - 0s - loss: 0.6838 - val_loss: 0.7283\n",
      "Epoch 193/200\n",
      "25000/28633 [=========================>....] - ETA: 0s - loss: 0.6841Epoch 00192: val_loss did not improve\n",
      "28633/28633 [==============================] - 0s - loss: 0.6839 - val_loss: 0.7284\n",
      "Epoch 194/200\n",
      "25000/28633 [=========================>....] - ETA: 0s - loss: 0.6827Epoch 00193: val_loss did not improve\n",
      "28633/28633 [==============================] - 0s - loss: 0.6837 - val_loss: 0.7284\n",
      "Epoch 195/200\n",
      "25000/28633 [=========================>....] - ETA: 0s - loss: 0.6840Epoch 00194: val_loss improved from 0.72827 to 0.72802, saving model to /tmp/logreg.hdf5\n",
      "28633/28633 [==============================] - 0s - loss: 0.6838 - val_loss: 0.7280\n",
      "Epoch 196/200\n",
      "25000/28633 [=========================>....] - ETA: 0s - loss: 0.6835Epoch 00195: val_loss did not improve\n",
      "28633/28633 [==============================] - 0s - loss: 0.6839 - val_loss: 0.7284\n",
      "Epoch 197/200\n",
      "25000/28633 [=========================>....] - ETA: 0s - loss: 0.6830Epoch 00196: val_loss improved from 0.72802 to 0.72794, saving model to /tmp/logreg.hdf5\n",
      "28633/28633 [==============================] - 0s - loss: 0.6837 - val_loss: 0.7279\n",
      "Epoch 198/200\n",
      "25000/28633 [=========================>....] - ETA: 0s - loss: 0.6833Epoch 00197: val_loss did not improve\n",
      "28633/28633 [==============================] - 0s - loss: 0.6836 - val_loss: 0.7281\n",
      "Epoch 199/200\n",
      "25000/28633 [=========================>....] - ETA: 0s - loss: 0.6838Epoch 00198: val_loss improved from 0.72794 to 0.72787, saving model to /tmp/logreg.hdf5\n",
      "\n",
      "Epoch 00198: reducing learning rate to 1.0000000474974514e-05.\n",
      "28633/28633 [==============================] - 0s - loss: 0.6835 - val_loss: 0.7279\n",
      "Epoch 200/200\n",
      "25000/28633 [=========================>....] - ETA: 0s - loss: 0.6831Epoch 00199: val_loss improved from 0.72787 to 0.72757, saving model to /tmp/logreg.hdf5\n",
      "28633/28633 [==============================] - 0s - loss: 0.6832 - val_loss: 0.7276\n"
     ]
    },
    {
     "data": {
      "text/plain": [
       "<keras.callbacks.History at 0x7f6670221ac8>"
      ]
     },
     "execution_count": 26,
     "metadata": {},
     "output_type": "execute_result"
    }
   ],
   "source": [
    "saver_logreg = keras.callbacks.ModelCheckpoint(filepath='/tmp/logreg.hdf5', monitor='val_loss', verbose=1, save_best_only=True)\n",
    "lr_decreaser_logreg = keras.callbacks.ReduceLROnPlateau(monitor='val_loss', patience=10, factor=0.1, epsilon=0.001, verbose=1)\n",
    "\n",
    "logreg.fit(X_train, Y_D1_train, validation_data = (X_test, Y_D1_test),\n",
    "           verbose=1, batch_size=5000, epochs=200, \n",
    "           callbacks=[saver_logreg, lr_decreaser_logreg])"
   ]
  },
  {
   "cell_type": "markdown",
   "metadata": {},
   "source": [
    "Учим CNN на лейблах - предиктах логрегрессии"
   ]
  },
  {
   "cell_type": "code",
   "execution_count": 27,
   "metadata": {
    "scrolled": true
   },
   "outputs": [
    {
     "name": "stdout",
     "output_type": "stream",
     "text": [
      "Train on 28633 samples, validate on 12272 samples\n",
      "Epoch 1/1\n",
      "28608/28633 [============================>.] - ETA: 0s - loss: 1.3824Epoch 00000: val_loss improved from inf to 0.68949, saving model to /tmp/cnn_old.hdf5\n",
      "28633/28633 [==============================] - 56s - loss: 1.3817 - val_loss: 0.6895\n"
     ]
    },
    {
     "data": {
      "text/plain": [
       "<keras.callbacks.History at 0x7f6670054400>"
      ]
     },
     "execution_count": 27,
     "metadata": {},
     "output_type": "execute_result"
    }
   ],
   "source": [
    "saver_cnn = keras.callbacks.ModelCheckpoint(filepath='/tmp/cnn_old.hdf5', monitor='val_loss', verbose=1, save_best_only=True)\n",
    "lr_decreaser_cnn = keras.callbacks.ReduceLROnPlateau(monitor='val_loss', patience=3, factor=0.5, epsilon=0.001, verbose=1)\n",
    "\n",
    "logreg.load_weights('/tmp/logreg.hdf5')\n",
    "\n",
    "cnn.fit(X_train, logreg.predict(X_train), validation_data = (X_test, Y_D1_test),\n",
    "                    verbose=1, epochs=1,\n",
    "                    callbacks=[saver_cnn, lr_decreaser_cnn])"
   ]
  },
  {
   "cell_type": "code",
   "execution_count": 28,
   "metadata": {},
   "outputs": [
    {
     "name": "stdout",
     "output_type": "stream",
     "text": [
      "логрег + кнн тренировались столько:  105.20178413391113\n"
     ]
    }
   ],
   "source": [
    "print('логрег + кнн тренировались столько: ', time() - t0)"
   ]
  },
  {
   "cell_type": "code",
   "execution_count": 29,
   "metadata": {
    "collapsed": true
   },
   "outputs": [],
   "source": [
    "cnn_pure = Sequential()\n",
    "cnn_pure.add(Conv2D(8, kernel_size=(3, 3),\n",
    "                 activation='relu',\n",
    "                 input_shape=input_shape))\n",
    "cnn_pure.add(Conv2D(16, (3, 3), activation='relu'))\n",
    "cnn_pure.add(MaxPooling2D(pool_size=(2, 2)))\n",
    "cnn_pure.add(Dropout(0.25))\n",
    "cnn_pure.add(Flatten())\n",
    "cnn_pure.add(Dense(64, activation='relu'))\n",
    "cnn_pure.add(Dropout(0.5))\n",
    "cnn_pure.add(Dense(1, activation='sigmoid'))\n",
    "cnn_pure.compile(loss=keras.losses.binary_crossentropy,\n",
    "                        optimizer=keras.optimizers.Adam())"
   ]
  },
  {
   "cell_type": "code",
   "execution_count": 30,
   "metadata": {
    "collapsed": true
   },
   "outputs": [],
   "source": [
    "t0=time()"
   ]
  },
  {
   "cell_type": "code",
   "execution_count": 31,
   "metadata": {
    "scrolled": true
   },
   "outputs": [
    {
     "name": "stdout",
     "output_type": "stream",
     "text": [
      "Train on 28633 samples, validate on 12272 samples\n",
      "Epoch 1/2\n",
      "28608/28633 [============================>.] - ETA: 0s - loss: 5.8217Epoch 00000: val_loss improved from inf to 0.69302, saving model to /tmp/cnn_new.hdf5\n",
      "28633/28633 [==============================] - 56s - loss: 5.8172 - val_loss: 0.6930\n",
      "Epoch 2/2\n",
      "28608/28633 [============================>.] - ETA: 0s - loss: 0.6927Epoch 00001: val_loss improved from 0.69302 to 0.69212, saving model to /tmp/cnn_new.hdf5\n",
      "28633/28633 [==============================] - 57s - loss: 0.6927 - val_loss: 0.6921\n"
     ]
    },
    {
     "data": {
      "text/plain": [
       "<keras.callbacks.History at 0x7f66701cb198>"
      ]
     },
     "execution_count": 31,
     "metadata": {},
     "output_type": "execute_result"
    }
   ],
   "source": [
    "saver_cnn_pure = keras.callbacks.ModelCheckpoint(filepath='/tmp/cnn_new.hdf5', monitor='val_loss', verbose=1, save_best_only=True)\n",
    "lr_decreaser_cnn_pure = keras.callbacks.ReduceLROnPlateau(monitor='val_loss', patience=3, factor=0.5, epsilon=0.001, verbose=1)\n",
    "\n",
    "\n",
    "cnn_pure.fit(X_train, Y_D1_train, validation_data = (X_test, Y_D1_test),\n",
    "                    verbose=1, epochs=2,\n",
    "                    callbacks=[saver_cnn_pure, lr_decreaser_cnn_pure])"
   ]
  },
  {
   "cell_type": "code",
   "execution_count": 32,
   "metadata": {},
   "outputs": [
    {
     "name": "stdout",
     "output_type": "stream",
     "text": [
      "чистая кнн тренировалась столько:  115.10945248603821\n"
     ]
    }
   ],
   "source": [
    "print('чистая кнн тренировалась столько: ', time() - t0)"
   ]
  },
  {
   "cell_type": "markdown",
   "metadata": {},
   "source": [
    "Предиктим D0 vs D1:"
   ]
  },
  {
   "cell_type": "code",
   "execution_count": 33,
   "metadata": {
    "collapsed": true
   },
   "outputs": [],
   "source": [
    "cnn.load_weights('/tmp/cnn_old.hdf5')\n",
    "cnn_pure.load_weights('/tmp/cnn_new.hdf5')\n",
    "logreg.load_weights('/tmp/logreg.hdf5')\n",
    "Y_pred_cnn = cnn.predict(x)\n",
    "Y_pred_logreg = logreg.predict(x)\n",
    "Y_pred_cnn_pure = cnn_pure.predict(x)"
   ]
  },
  {
   "cell_type": "markdown",
   "metadata": {},
   "source": [
    "Смотрим на распределения вероятностей для класса C_1"
   ]
  },
  {
   "cell_type": "code",
   "execution_count": 34,
   "metadata": {},
   "outputs": [
    {
     "data": {
      "image/png": "[encoded data removed]",
      "text/plain": [
       "<matplotlib.figure.Figure at 0x7f66702423c8>"
      ]
     },
     "metadata": {},
     "output_type": "display_data"
    }
   ],
   "source": [
    "mask = [i for i,elem in enumerate(y_C1) if elem == 1]\n",
    "plt.hist(Y_pred_logreg[mask], bins=10, alpha=0.1, label='logreg')\n",
    "plt.hist(Y_pred_cnn[mask], bins=12, alpha=0.5, label='cnn')\n",
    "plt.hist(Y_pred_cnn_pure[mask], bins=12, alpha=0.5, label='cnn_pure')\n",
    "plt.legend(loc='upper right')\n",
    "plt.show()"
   ]
  },
  {
   "cell_type": "markdown",
   "metadata": {},
   "source": [
    "Смотрим на распределения вероятностей для класса C_0"
   ]
  },
  {
   "cell_type": "code",
   "execution_count": 35,
   "metadata": {},
   "outputs": [
    {
     "data": {
      "image/png": "[encoded data removed]",
      "text/plain": [
       "<matplotlib.figure.Figure at 0x7f66645e9438>"
      ]
     },
     "metadata": {},
     "output_type": "display_data"
    }
   ],
   "source": [
    "mask = [i for i,elem in enumerate(y_C1) if elem == 0]\n",
    "plt.hist(Y_pred_logreg[mask], bins=10, alpha=0.1, label='logreg')\n",
    "plt.hist(Y_pred_cnn[mask], bins=10, alpha=0.5, label='cnn')\n",
    "plt.hist(Y_pred_cnn_pure[mask], bins=10, alpha=0.5, label='cnn_pure')\n",
    "plt.legend(loc='upper right')\n",
    "plt.show()"
   ]
  },
  {
   "cell_type": "code",
   "execution_count": 36,
   "metadata": {},
   "outputs": [
    {
     "data": {
      "image/png": "[encoded data removed]",
      "text/plain": [
       "<matplotlib.figure.Figure at 0x7f66704db470>"
      ]
     },
     "metadata": {},
     "output_type": "display_data"
    }
   ],
   "source": [
    "mask = [i for i,elem in enumerate(y_C1)]\n",
    "plt.hist(Y_pred_logreg[mask], bins=160, alpha=0.1, label='logreg')\n",
    "plt.hist(Y_pred_cnn[mask], bins=60, alpha=1, label='cnn')\n",
    "plt.hist(Y_pred_cnn_pure[mask], bins=60, alpha=1, label='cnn_pure')\n",
    "plt.legend(loc='upper right')\n",
    "plt.show()"
   ]
  },
  {
   "cell_type": "markdown",
   "metadata": {
    "collapsed": true
   },
   "source": [
    "Рокауки на задаче C0 vs C1"
   ]
  },
  {
   "cell_type": "code",
   "execution_count": 37,
   "metadata": {},
   "outputs": [
    {
     "name": "stdout",
     "output_type": "stream",
     "text": [
      "logreg rocauc: 0.889860990557\n",
      "cnn rocauc: 0.976458356035\n",
      "cnn_pure rocauc: 0.873324302761\n"
     ]
    }
   ],
   "source": [
    "print('logreg rocauc:', rocauc(Y_C1_test, D1_problem_to_C1_problem(logreg.predict(X_test)).flat))\n",
    "print('cnn rocauc:', rocauc(Y_C1_test, D1_problem_to_C1_problem(cnn.predict(X_test)).flat))\n",
    "print('cnn_pure rocauc:', rocauc(Y_C1_test, D1_problem_to_C1_problem(cnn_pure.predict(X_test)).flat))"
   ]
  }
 ],
 "metadata": {
  "kernelspec": {
   "display_name": "Python 3",
   "language": "python",
   "name": "python3"
  },
  "language_info": {
   "codemirror_mode": {
    "name": "ipython",
    "version": 3
   },
   "file_extension": ".py",
   "mimetype": "text/x-python",
   "name": "python",
   "nbconvert_exporter": "python",
   "pygments_lexer": "ipython3",
   "version": "3.5.2"
  }
 },
 "nbformat": 4,
 "nbformat_minor": 2
}
